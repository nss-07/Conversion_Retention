{
 "cells": [
  {
   "cell_type": "code",
   "execution_count": 1,
   "metadata": {},
   "outputs": [],
   "source": [
    "#imports\n",
    "import numpy as np\n",
    "import pandas as pd\n",
    "import sqlalchemy\n",
    "import datetime"
   ]
  },
  {
   "cell_type": "markdown",
   "metadata": {},
   "source": [
    "# Loading Data into DataFrames"
   ]
  },
  {
   "cell_type": "code",
   "execution_count": 2,
   "metadata": {},
   "outputs": [],
   "source": [
    "appointments_data = pd.read_csv(\"Data_Files/jedi_appointments.csv\")\n",
    "establishments_data = pd.read_csv(\"Data_Files/jedi_establishments.csv\")\n",
    "speciality_data = pd.read_csv(\"Data_Files/jedi_speciality.csv\")\n",
    "traffic_data = pd.read_csv(\"Data_Files/jedi_traffic.csv\")"
   ]
  },
  {
   "cell_type": "code",
   "execution_count": 3,
   "metadata": {},
   "outputs": [
    {
     "name": "stdout",
     "output_type": "stream",
     "text": [
      "<class 'pandas.core.frame.DataFrame'>\n",
      "RangeIndex: 76090 entries, 0 to 76089\n",
      "Data columns (total 10 columns):\n",
      " #   Column            Non-Null Count  Dtype \n",
      "---  ------            --------------  ----- \n",
      " 0   id                76090 non-null  object\n",
      " 1   created_at        76090 non-null  object\n",
      " 2   appointment_from  76090 non-null  object\n",
      " 3   status            76090 non-null  object\n",
      " 4   type              76090 non-null  object\n",
      " 5   source            76090 non-null  object\n",
      " 6   establishment_id  76090 non-null  object\n",
      " 7   patient_id        76090 non-null  object\n",
      " 8   search_page       76090 non-null  object\n",
      " 9   utm_flags         76090 non-null  object\n",
      "dtypes: object(10)\n",
      "memory usage: 5.8+ MB\n",
      "Appointments table:\n",
      " None\n",
      "<class 'pandas.core.frame.DataFrame'>\n",
      "RangeIndex: 70752 entries, 0 to 70751\n",
      "Data columns (total 3 columns):\n",
      " #   Column    Non-Null Count  Dtype \n",
      "---  ------    --------------  ----- \n",
      " 0   id        70752 non-null  object\n",
      " 1   locality  70752 non-null  object\n",
      " 2   city      70752 non-null  object\n",
      "dtypes: object(3)\n",
      "memory usage: 1.6+ MB\n",
      "Establishments table:\n",
      " None\n",
      "<class 'pandas.core.frame.DataFrame'>\n",
      "RangeIndex: 639 entries, 0 to 638\n",
      "Data columns (total 2 columns):\n",
      " #   Column       Non-Null Count  Dtype \n",
      "---  ------       --------------  ----- \n",
      " 0   search_term  639 non-null    object\n",
      " 1   speciality   639 non-null    object\n",
      "dtypes: object(2)\n",
      "memory usage: 10.1+ KB\n",
      "Speciality table:\n",
      " None\n",
      "<class 'pandas.core.frame.DataFrame'>\n",
      "RangeIndex: 1685605 entries, 0 to 1685604\n",
      "Data columns (total 13 columns):\n",
      " #   Column          Non-Null Count    Dtype \n",
      "---  ------          --------------    ----- \n",
      " 0   year            1685605 non-null  int64 \n",
      " 1   month           1685605 non-null  int64 \n",
      " 2   day             1685605 non-null  int64 \n",
      " 3   utm_medium      468795 non-null   object\n",
      " 4   query_value     1685605 non-null  object\n",
      " 5   location_type   1669303 non-null  object\n",
      " 6   country         1591432 non-null  object\n",
      " 7   utm_source      322324 non-null   object\n",
      " 8   query_type      1685605 non-null  object\n",
      " 9   location_value  1663781 non-null  object\n",
      " 10  platform        1685605 non-null  object\n",
      " 11  city            1685557 non-null  object\n",
      " 12  dau             1685605 non-null  int64 \n",
      "dtypes: int64(4), object(9)\n",
      "memory usage: 167.2+ MB\n",
      "Traffic table:\n",
      " None\n"
     ]
    }
   ],
   "source": [
    "# information for reference\n",
    "print(\"Appointments table:\\n\", appointments_data.info())\n",
    "\n",
    "print(\"Establishments table:\\n\", establishments_data.info())\n",
    "\n",
    "print(\"Speciality table:\\n\", speciality_data.info())\n",
    "\n",
    "print(\"Traffic table:\\n\", traffic_data.info())"
   ]
  },
  {
   "cell_type": "markdown",
   "metadata": {},
   "source": [
    "# Data Cleaning and Loading into SQL"
   ]
  },
  {
   "cell_type": "code",
   "execution_count": 4,
   "metadata": {},
   "outputs": [],
   "source": [
    "# creating engine\n",
    "engine = sqlalchemy.create_engine('mysql+pymysql://root:<pass>@localhost:3306/<dbname>')"
   ]
  },
  {
   "cell_type": "code",
   "execution_count": 5,
   "metadata": {},
   "outputs": [],
   "source": [
    "# stripping establishments table and loading to SQL\n",
    "df_obj = establishments_data.select_dtypes(['object'])\n",
    "establishments_data[df_obj.columns] = df_obj.apply(lambda x: x.str.strip())\n",
    "establishments_data['locality'] = establishments_data['locality'].str.encode('ascii', 'ignore').str.decode('utf-8')"
   ]
  },
  {
   "cell_type": "code",
   "execution_count": 6,
   "metadata": {},
   "outputs": [],
   "source": [
    "# loading establishments data into sql\n",
    "establishments_data.to_sql(\n",
    "name = 'establishments',\n",
    "con = engine,\n",
    "index = False,\n",
    "if_exists='replace'\n",
    ")"
   ]
  },
  {
   "cell_type": "code",
   "execution_count": 7,
   "metadata": {},
   "outputs": [
    {
     "data": {
      "text/html": [
       "<div>\n",
       "<style scoped>\n",
       "    .dataframe tbody tr th:only-of-type {\n",
       "        vertical-align: middle;\n",
       "    }\n",
       "\n",
       "    .dataframe tbody tr th {\n",
       "        vertical-align: top;\n",
       "    }\n",
       "\n",
       "    .dataframe thead th {\n",
       "        text-align: right;\n",
       "    }\n",
       "</style>\n",
       "<table border=\"1\" class=\"dataframe\">\n",
       "  <thead>\n",
       "    <tr style=\"text-align: right;\">\n",
       "      <th></th>\n",
       "      <th>id</th>\n",
       "      <th>created_at</th>\n",
       "      <th>appointment_from</th>\n",
       "      <th>status</th>\n",
       "      <th>type</th>\n",
       "      <th>source</th>\n",
       "      <th>establishment_id</th>\n",
       "      <th>patient_id</th>\n",
       "      <th>search_page</th>\n",
       "      <th>utm_flags</th>\n",
       "      <th>locality</th>\n",
       "      <th>city</th>\n",
       "    </tr>\n",
       "  </thead>\n",
       "  <tbody>\n",
       "    <tr>\n",
       "      <th>0</th>\n",
       "      <td>119cc56861f3e602654b325802c4e373d89c8d25</td>\n",
       "      <td>2020-12-12 15:02:49</td>\n",
       "      <td>2020-12-14 14:00:00</td>\n",
       "      <td>CONFIRMED</td>\n",
       "      <td>abs</td>\n",
       "      <td>android</td>\n",
       "      <td>b828d3b17d1c61cd3decb6d8ca9d62052f013cce</td>\n",
       "      <td>bed196062508864d9debbf7cd79bf0226416b65d</td>\n",
       "      <td>City|Ahmedabad|subspeciality|ophthalmologist/ ...</td>\n",
       "      <td>NULL|NULL</td>\n",
       "      <td>Navrangpura</td>\n",
       "      <td>Ahmedabad</td>\n",
       "    </tr>\n",
       "    <tr>\n",
       "      <th>1</th>\n",
       "      <td>4d2dc045f02d7b59988a1edcf9c6cef09cee18fe</td>\n",
       "      <td>2020-12-05 09:46:06</td>\n",
       "      <td>2020-12-05 11:30:00</td>\n",
       "      <td>CANCELLED</td>\n",
       "      <td>abs</td>\n",
       "      <td>mWeb</td>\n",
       "      <td>b828d3b17d1c61cd3decb6d8ca9d62052f013cce</td>\n",
       "      <td>f9973bdaf14a58e615bebd2caceece89513f4253</td>\n",
       "      <td>city|Ahmedabad|subspeciality|Ophthalmologist</td>\n",
       "      <td>NULL|NULL</td>\n",
       "      <td>Navrangpura</td>\n",
       "      <td>Ahmedabad</td>\n",
       "    </tr>\n",
       "    <tr>\n",
       "      <th>2</th>\n",
       "      <td>655188d31614f9757da766e4e9be61ebd2ec408b</td>\n",
       "      <td>2020-12-18 06:31:38</td>\n",
       "      <td>2020-12-18 13:45:00</td>\n",
       "      <td>CANCELLED</td>\n",
       "      <td>abs</td>\n",
       "      <td>mWeb</td>\n",
       "      <td>b828d3b17d1c61cd3decb6d8ca9d62052f013cce</td>\n",
       "      <td>41a5a7375a6b9d0231b7f1f6ea81372f61fd6b73</td>\n",
       "      <td>locality|Ambawadi|subspeciality|ophthalmologis...</td>\n",
       "      <td>NULL|NULL</td>\n",
       "      <td>Navrangpura</td>\n",
       "      <td>Ahmedabad</td>\n",
       "    </tr>\n",
       "    <tr>\n",
       "      <th>3</th>\n",
       "      <td>44c395026f72db339eb32cdc223935444033df44</td>\n",
       "      <td>2021-01-08 08:22:31</td>\n",
       "      <td>2021-01-08 11:30:00</td>\n",
       "      <td>CONFIRMED</td>\n",
       "      <td>abs</td>\n",
       "      <td>mWeb</td>\n",
       "      <td>b828d3b17d1c61cd3decb6d8ca9d62052f013cce</td>\n",
       "      <td>c5343acbd9cbb8852a66cb163eae519e9da5c5e1</td>\n",
       "      <td>city|Ahmedabad|subspeciality|Ophthalmologist</td>\n",
       "      <td>NULL|NULL</td>\n",
       "      <td>Navrangpura</td>\n",
       "      <td>Ahmedabad</td>\n",
       "    </tr>\n",
       "    <tr>\n",
       "      <th>4</th>\n",
       "      <td>cf481ac856902648b79a3a15060937b47bf551e4</td>\n",
       "      <td>2020-12-07 08:07:05</td>\n",
       "      <td>2020-12-09 04:00:00</td>\n",
       "      <td>CONFIRMED</td>\n",
       "      <td>abs</td>\n",
       "      <td>android</td>\n",
       "      <td>8777db3f7f72eb23e07c4d07006fc81fca9aee89</td>\n",
       "      <td>525ee5b7e54f68443ee7449b185f9b9d19351813</td>\n",
       "      <td>City|Thane|subspeciality|plastic surgeon</td>\n",
       "      <td>NULL|NULL</td>\n",
       "      <td>Thane West</td>\n",
       "      <td>Thane</td>\n",
       "    </tr>\n",
       "  </tbody>\n",
       "</table>\n",
       "</div>"
      ],
      "text/plain": [
       "                                         id           created_at  \\\n",
       "0  119cc56861f3e602654b325802c4e373d89c8d25  2020-12-12 15:02:49   \n",
       "1  4d2dc045f02d7b59988a1edcf9c6cef09cee18fe  2020-12-05 09:46:06   \n",
       "2  655188d31614f9757da766e4e9be61ebd2ec408b  2020-12-18 06:31:38   \n",
       "3  44c395026f72db339eb32cdc223935444033df44  2021-01-08 08:22:31   \n",
       "4  cf481ac856902648b79a3a15060937b47bf551e4  2020-12-07 08:07:05   \n",
       "\n",
       "      appointment_from     status type   source  \\\n",
       "0  2020-12-14 14:00:00  CONFIRMED  abs  android   \n",
       "1  2020-12-05 11:30:00  CANCELLED  abs     mWeb   \n",
       "2  2020-12-18 13:45:00  CANCELLED  abs     mWeb   \n",
       "3  2021-01-08 11:30:00  CONFIRMED  abs     mWeb   \n",
       "4  2020-12-09 04:00:00  CONFIRMED  abs  android   \n",
       "\n",
       "                           establishment_id  \\\n",
       "0  b828d3b17d1c61cd3decb6d8ca9d62052f013cce   \n",
       "1  b828d3b17d1c61cd3decb6d8ca9d62052f013cce   \n",
       "2  b828d3b17d1c61cd3decb6d8ca9d62052f013cce   \n",
       "3  b828d3b17d1c61cd3decb6d8ca9d62052f013cce   \n",
       "4  8777db3f7f72eb23e07c4d07006fc81fca9aee89   \n",
       "\n",
       "                                 patient_id  \\\n",
       "0  bed196062508864d9debbf7cd79bf0226416b65d   \n",
       "1  f9973bdaf14a58e615bebd2caceece89513f4253   \n",
       "2  41a5a7375a6b9d0231b7f1f6ea81372f61fd6b73   \n",
       "3  c5343acbd9cbb8852a66cb163eae519e9da5c5e1   \n",
       "4  525ee5b7e54f68443ee7449b185f9b9d19351813   \n",
       "\n",
       "                                         search_page  utm_flags     locality  \\\n",
       "0  City|Ahmedabad|subspeciality|ophthalmologist/ ...  NULL|NULL  Navrangpura   \n",
       "1       city|Ahmedabad|subspeciality|Ophthalmologist  NULL|NULL  Navrangpura   \n",
       "2  locality|Ambawadi|subspeciality|ophthalmologis...  NULL|NULL  Navrangpura   \n",
       "3       city|Ahmedabad|subspeciality|Ophthalmologist  NULL|NULL  Navrangpura   \n",
       "4           City|Thane|subspeciality|plastic surgeon  NULL|NULL   Thane West   \n",
       "\n",
       "        city  \n",
       "0  Ahmedabad  \n",
       "1  Ahmedabad  \n",
       "2  Ahmedabad  \n",
       "3  Ahmedabad  \n",
       "4      Thane  "
      ]
     },
     "execution_count": 7,
     "metadata": {},
     "output_type": "execute_result"
    }
   ],
   "source": [
    "# generating locality and city for appointments_data\n",
    "establishments_data.rename(columns={'id': 'establishment_id'}, inplace=True)\n",
    "appointments_data = pd.merge(left = appointments_data, right=establishments_data, left_on='establishment_id', right_on='establishment_id', how='left')\n",
    "appointments_data.head()"
   ]
  },
  {
   "cell_type": "code",
   "execution_count": 8,
   "metadata": {},
   "outputs": [],
   "source": [
    "# appointments typecasting\n",
    "appointments_data['created_at'] = pd.to_datetime(appointments_data['created_at'])\n",
    "appointments_data['appointment_from'] = pd.to_datetime(appointments_data['appointment_from'])\n",
    "\n",
    "# setting index to normalized 'created_at'\n",
    "appointments_data['ref_date'] = appointments_data['created_at'].dt.normalize()\n",
    "# appointments_data.set_index('ref_date', inplace=True)\n",
    "\n",
    "appointments_data['speciality'] = appointments_data['search_page'].str.split('|',expand=True)[3].apply(lambda x: x.lower())\n",
    "appointments_data.drop(['search_page'], axis=1, inplace=True)"
   ]
  },
  {
   "cell_type": "code",
   "execution_count": 9,
   "metadata": {},
   "outputs": [
    {
     "name": "stderr",
     "output_type": "stream",
     "text": [
      "<ipython-input-9-a04fe99e61ce>:3: SettingWithCopyWarning: \n",
      "A value is trying to be set on a copy of a slice from a DataFrame.\n",
      "Try using .loc[row_indexer,col_indexer] = value instead\n",
      "\n",
      "See the caveats in the documentation: https://pandas.pydata.org/pandas-docs/stable/user_guide/indexing.html#returning-a-view-versus-a-copy\n",
      "  confirmed_appointments_data['city'] = confirmed_appointments_data['city'].str.lower()\n"
     ]
    }
   ],
   "source": [
    "# appointments data for only confirmed bookings\n",
    "confirmed_appointments_data = appointments_data[appointments_data['status'] == 'CONFIRMED']\n",
    "confirmed_appointments_data['city'] = confirmed_appointments_data['city'].str.lower()"
   ]
  },
  {
   "cell_type": "code",
   "execution_count": 10,
   "metadata": {},
   "outputs": [],
   "source": [
    "# loading appointments to SQL\n",
    "appointments_data.to_sql('appointments', engine, if_exists='replace')"
   ]
  },
  {
   "cell_type": "code",
   "execution_count": 11,
   "metadata": {},
   "outputs": [],
   "source": [
    "# stripping speciality table\n",
    "df_obj = speciality_data.select_dtypes(['object'])\n",
    "speciality_data[df_obj.columns] = df_obj.apply(lambda x: x.str.strip())"
   ]
  },
  {
   "cell_type": "code",
   "execution_count": 12,
   "metadata": {},
   "outputs": [],
   "source": [
    "# loading speciality table to SQL\n",
    "speciality_data.to_sql('speciality', engine, if_exists='replace', index=False)"
   ]
  },
  {
   "cell_type": "code",
   "execution_count": 13,
   "metadata": {},
   "outputs": [],
   "source": [
    "#traffic data - generating date stamp and dropping individual columns\n",
    "traffic_data['date'] = pd.to_datetime(traffic_data[['year','month','day']])\n",
    "traffic_data = traffic_data.drop(['year','month','day'], axis = 1)"
   ]
  },
  {
   "cell_type": "code",
   "execution_count": 14,
   "metadata": {},
   "outputs": [],
   "source": [
    "# appointments data is available only for india, so reducing traffic_data parallely\n",
    "traffic_data['country'] = traffic_data['country'].str.lower()\n",
    "\n",
    "# getting all data from india, or from cities in establishment data if city is not specified\n",
    "location_filter = (traffic_data['country'] == 'india') | ((traffic_data['country'].isnull().values.any()) & traffic_data.city.isin(establishments_data['city']))\n",
    "\n",
    "traffic_data_india = traffic_data.loc[location_filter].drop(['country'], axis=1)"
   ]
  },
  {
   "cell_type": "code",
   "execution_count": 15,
   "metadata": {},
   "outputs": [],
   "source": [
    "# stripping traffic table\n",
    "df_obj = traffic_data.select_dtypes(['object'])\n",
    "traffic_data[df_obj.columns] = df_obj.apply(lambda x: x.str.strip())\n",
    "traffic_data[df_obj.columns] = df_obj.apply(lambda x: x.str.encode('ascii', 'ignore').str.decode('utf-8'))"
   ]
  },
  {
   "cell_type": "code",
   "execution_count": 16,
   "metadata": {},
   "outputs": [],
   "source": [
    "# loading traffic table to SQL\n",
    "traffic_data.to_sql('traffic', engine, if_exists='replace', index=False)"
   ]
  },
  {
   "cell_type": "markdown",
   "metadata": {},
   "source": [
    "# Conversion"
   ]
  },
  {
   "cell_type": "markdown",
   "metadata": {},
   "source": [
    "#### Overall"
   ]
  },
  {
   "cell_type": "code",
   "execution_count": 17,
   "metadata": {},
   "outputs": [
    {
     "name": "stdout",
     "output_type": "stream",
     "text": [
      "net conversion = 1.93 %\n",
      "gross conversion = 2.48 %\n"
     ]
    }
   ],
   "source": [
    "# on all of the data\n",
    "total_traffic = traffic_data['dau'].sum()\n",
    "\n",
    "total_booked = len(appointments_data.index)\n",
    "total_confirmed = len(confirmed_appointments_data)\n",
    "\n",
    "net_conversion = (total_confirmed/total_traffic)*100\n",
    "gross_conversion = (total_booked/total_traffic)*100\n",
    "print(\"net conversion = {:.2f} %\".format(net_conversion))\n",
    "print(\"gross conversion = {:.2f} %\".format(gross_conversion))"
   ]
  },
  {
   "cell_type": "code",
   "execution_count": 18,
   "metadata": {},
   "outputs": [
    {
     "name": "stdout",
     "output_type": "stream",
     "text": [
      "net conversion = 2.00 %\n",
      "gross conversion = 2.57 %\n"
     ]
    }
   ],
   "source": [
    "# using only India's traffic data to get a more accurate conversion measure\n",
    "total_traffic_india = traffic_data_india['dau'].sum()\n",
    "\n",
    "net_conversion_india = (total_confirmed/total_traffic_india)*100\n",
    "gross_conversion_india = (total_booked/total_traffic_india)*100\n",
    "print(\"net conversion = {:.2f} %\".format(net_conversion_india))\n",
    "print(\"gross conversion = {:.2f} %\".format(gross_conversion_india))"
   ]
  },
  {
   "cell_type": "markdown",
   "metadata": {},
   "source": [
    "#### Daily Conversion"
   ]
  },
  {
   "cell_type": "code",
   "execution_count": 19,
   "metadata": {},
   "outputs": [],
   "source": [
    "# conversion rate by daydaily_traffic = traffic_data_india.groupby(['date']).agg({'dau':'sum'})\n",
    "\n",
    "daily_appointments = appointments_data['ref_date'].value_counts()\n",
    "daily_confirmed_appointments = confirmed_appointments_data['ref_date'].value_counts()\n",
    "daily_traffic = traffic_data_india.groupby(['date']).agg({'dau':'sum'})\n",
    "\n",
    "daily_stats = pd.concat([daily_appointments, daily_confirmed_appointments, daily_traffic], axis='columns')\n",
    "daily_stats.columns = ['total_booked', 'confirmed', 'traffic']\n",
    "\n",
    "# daily_stats['gross conversion %'] = round((daily_stats['total_booked']/daily_stats['traffic'])*100,2)\n",
    "# daily_stats['net conversion %'] = round((daily_stats['confirmed']/daily_stats['traffic'])*100,2)"
   ]
  },
  {
   "cell_type": "code",
   "execution_count": 20,
   "metadata": {},
   "outputs": [
    {
     "data": {
      "text/html": [
       "<div>\n",
       "<style scoped>\n",
       "    .dataframe tbody tr th:only-of-type {\n",
       "        vertical-align: middle;\n",
       "    }\n",
       "\n",
       "    .dataframe tbody tr th {\n",
       "        vertical-align: top;\n",
       "    }\n",
       "\n",
       "    .dataframe thead th {\n",
       "        text-align: right;\n",
       "    }\n",
       "</style>\n",
       "<table border=\"1\" class=\"dataframe\">\n",
       "  <thead>\n",
       "    <tr style=\"text-align: right;\">\n",
       "      <th></th>\n",
       "      <th>total_booked</th>\n",
       "      <th>confirmed</th>\n",
       "      <th>traffic</th>\n",
       "      <th>gross_conversion</th>\n",
       "      <th>net_conversion</th>\n",
       "    </tr>\n",
       "  </thead>\n",
       "  <tbody>\n",
       "    <tr>\n",
       "      <th>2020-12-01</th>\n",
       "      <td>1143</td>\n",
       "      <td>896</td>\n",
       "      <td>48341</td>\n",
       "      <td>2.36</td>\n",
       "      <td>1.85</td>\n",
       "    </tr>\n",
       "    <tr>\n",
       "      <th>2020-12-02</th>\n",
       "      <td>1098</td>\n",
       "      <td>855</td>\n",
       "      <td>47079</td>\n",
       "      <td>2.33</td>\n",
       "      <td>1.82</td>\n",
       "    </tr>\n",
       "    <tr>\n",
       "      <th>2020-12-03</th>\n",
       "      <td>1040</td>\n",
       "      <td>803</td>\n",
       "      <td>46461</td>\n",
       "      <td>2.24</td>\n",
       "      <td>1.73</td>\n",
       "    </tr>\n",
       "    <tr>\n",
       "      <th>2020-12-04</th>\n",
       "      <td>1200</td>\n",
       "      <td>930</td>\n",
       "      <td>46419</td>\n",
       "      <td>2.59</td>\n",
       "      <td>2.00</td>\n",
       "    </tr>\n",
       "    <tr>\n",
       "      <th>2020-12-05</th>\n",
       "      <td>1476</td>\n",
       "      <td>1151</td>\n",
       "      <td>49102</td>\n",
       "      <td>3.01</td>\n",
       "      <td>2.34</td>\n",
       "    </tr>\n",
       "    <tr>\n",
       "      <th>...</th>\n",
       "      <td>...</td>\n",
       "      <td>...</td>\n",
       "      <td>...</td>\n",
       "      <td>...</td>\n",
       "      <td>...</td>\n",
       "    </tr>\n",
       "    <tr>\n",
       "      <th>2021-01-27</th>\n",
       "      <td>1220</td>\n",
       "      <td>949</td>\n",
       "      <td>54449</td>\n",
       "      <td>2.24</td>\n",
       "      <td>1.74</td>\n",
       "    </tr>\n",
       "    <tr>\n",
       "      <th>2021-01-28</th>\n",
       "      <td>1089</td>\n",
       "      <td>845</td>\n",
       "      <td>45862</td>\n",
       "      <td>2.37</td>\n",
       "      <td>1.84</td>\n",
       "    </tr>\n",
       "    <tr>\n",
       "      <th>2021-01-29</th>\n",
       "      <td>1415</td>\n",
       "      <td>1117</td>\n",
       "      <td>43218</td>\n",
       "      <td>3.27</td>\n",
       "      <td>2.58</td>\n",
       "    </tr>\n",
       "    <tr>\n",
       "      <th>2021-01-30</th>\n",
       "      <td>1662</td>\n",
       "      <td>1308</td>\n",
       "      <td>44064</td>\n",
       "      <td>3.77</td>\n",
       "      <td>2.97</td>\n",
       "    </tr>\n",
       "    <tr>\n",
       "      <th>2021-01-31</th>\n",
       "      <td>1214</td>\n",
       "      <td>926</td>\n",
       "      <td>38012</td>\n",
       "      <td>3.19</td>\n",
       "      <td>2.44</td>\n",
       "    </tr>\n",
       "  </tbody>\n",
       "</table>\n",
       "<p>62 rows × 5 columns</p>\n",
       "</div>"
      ],
      "text/plain": [
       "            total_booked  confirmed  traffic  gross_conversion  net_conversion\n",
       "2020-12-01          1143        896    48341              2.36            1.85\n",
       "2020-12-02          1098        855    47079              2.33            1.82\n",
       "2020-12-03          1040        803    46461              2.24            1.73\n",
       "2020-12-04          1200        930    46419              2.59            2.00\n",
       "2020-12-05          1476       1151    49102              3.01            2.34\n",
       "...                  ...        ...      ...               ...             ...\n",
       "2021-01-27          1220        949    54449              2.24            1.74\n",
       "2021-01-28          1089        845    45862              2.37            1.84\n",
       "2021-01-29          1415       1117    43218              3.27            2.58\n",
       "2021-01-30          1662       1308    44064              3.77            2.97\n",
       "2021-01-31          1214        926    38012              3.19            2.44\n",
       "\n",
       "[62 rows x 5 columns]"
      ]
     },
     "execution_count": 20,
     "metadata": {},
     "output_type": "execute_result"
    }
   ],
   "source": [
    "# saving daily stats to csv\n",
    "daily_stats.to_csv('Analysis/daily_conversion_stats.csv')\n",
    "\n",
    "daily_stats.assign(gross_conversion = lambda x: round((x['total_booked']/x['traffic'])*100,2),\n",
    "                  net_conversion = lambda x: round((x['confirmed']/x['traffic'])*100,2))"
   ]
  },
  {
   "cell_type": "markdown",
   "metadata": {},
   "source": [
    "#### Weekly and Monthly"
   ]
  },
  {
   "cell_type": "code",
   "execution_count": 21,
   "metadata": {
    "scrolled": true
   },
   "outputs": [
    {
     "data": {
      "text/html": [
       "<div>\n",
       "<style scoped>\n",
       "    .dataframe tbody tr th:only-of-type {\n",
       "        vertical-align: middle;\n",
       "    }\n",
       "\n",
       "    .dataframe tbody tr th {\n",
       "        vertical-align: top;\n",
       "    }\n",
       "\n",
       "    .dataframe thead th {\n",
       "        text-align: right;\n",
       "    }\n",
       "</style>\n",
       "<table border=\"1\" class=\"dataframe\">\n",
       "  <thead>\n",
       "    <tr style=\"text-align: right;\">\n",
       "      <th></th>\n",
       "      <th>total_booked</th>\n",
       "      <th>confirmed</th>\n",
       "      <th>traffic</th>\n",
       "      <th>gross_conversion</th>\n",
       "      <th>net_conversion</th>\n",
       "    </tr>\n",
       "  </thead>\n",
       "  <tbody>\n",
       "    <tr>\n",
       "      <th>2020-12-06</th>\n",
       "      <td>6917</td>\n",
       "      <td>5364</td>\n",
       "      <td>279274</td>\n",
       "      <td>2.48</td>\n",
       "      <td>1.92</td>\n",
       "    </tr>\n",
       "    <tr>\n",
       "      <th>2020-12-13</th>\n",
       "      <td>8364</td>\n",
       "      <td>6491</td>\n",
       "      <td>333663</td>\n",
       "      <td>2.51</td>\n",
       "      <td>1.95</td>\n",
       "    </tr>\n",
       "    <tr>\n",
       "      <th>2020-12-20</th>\n",
       "      <td>7559</td>\n",
       "      <td>6158</td>\n",
       "      <td>332037</td>\n",
       "      <td>2.28</td>\n",
       "      <td>1.85</td>\n",
       "    </tr>\n",
       "    <tr>\n",
       "      <th>2020-12-27</th>\n",
       "      <td>7812</td>\n",
       "      <td>6062</td>\n",
       "      <td>323053</td>\n",
       "      <td>2.42</td>\n",
       "      <td>1.88</td>\n",
       "    </tr>\n",
       "    <tr>\n",
       "      <th>2021-01-03</th>\n",
       "      <td>8450</td>\n",
       "      <td>6475</td>\n",
       "      <td>278418</td>\n",
       "      <td>3.04</td>\n",
       "      <td>2.33</td>\n",
       "    </tr>\n",
       "    <tr>\n",
       "      <th>2021-01-10</th>\n",
       "      <td>9751</td>\n",
       "      <td>7596</td>\n",
       "      <td>371151</td>\n",
       "      <td>2.63</td>\n",
       "      <td>2.05</td>\n",
       "    </tr>\n",
       "    <tr>\n",
       "      <th>2021-01-17</th>\n",
       "      <td>8895</td>\n",
       "      <td>6919</td>\n",
       "      <td>348893</td>\n",
       "      <td>2.55</td>\n",
       "      <td>1.98</td>\n",
       "    </tr>\n",
       "    <tr>\n",
       "      <th>2021-01-24</th>\n",
       "      <td>9144</td>\n",
       "      <td>7117</td>\n",
       "      <td>366836</td>\n",
       "      <td>2.49</td>\n",
       "      <td>1.94</td>\n",
       "    </tr>\n",
       "    <tr>\n",
       "      <th>2021-01-31</th>\n",
       "      <td>9198</td>\n",
       "      <td>7090</td>\n",
       "      <td>328824</td>\n",
       "      <td>2.80</td>\n",
       "      <td>2.16</td>\n",
       "    </tr>\n",
       "  </tbody>\n",
       "</table>\n",
       "</div>"
      ],
      "text/plain": [
       "            total_booked  confirmed  traffic  gross_conversion  net_conversion\n",
       "2020-12-06          6917       5364   279274              2.48            1.92\n",
       "2020-12-13          8364       6491   333663              2.51            1.95\n",
       "2020-12-20          7559       6158   332037              2.28            1.85\n",
       "2020-12-27          7812       6062   323053              2.42            1.88\n",
       "2021-01-03          8450       6475   278418              3.04            2.33\n",
       "2021-01-10          9751       7596   371151              2.63            2.05\n",
       "2021-01-17          8895       6919   348893              2.55            1.98\n",
       "2021-01-24          9144       7117   366836              2.49            1.94\n",
       "2021-01-31          9198       7090   328824              2.80            2.16"
      ]
     },
     "execution_count": 21,
     "metadata": {},
     "output_type": "execute_result"
    }
   ],
   "source": [
    "# weekly\n",
    "daily_stats.resample('W').sum().assign(gross_conversion = lambda x: round((x['total_booked']/x['traffic'])*100,2),\n",
    "                  net_conversion = lambda x: round((x['confirmed']/x['traffic'])*100,2))"
   ]
  },
  {
   "cell_type": "code",
   "execution_count": 22,
   "metadata": {},
   "outputs": [
    {
     "data": {
      "text/html": [
       "<div>\n",
       "<style scoped>\n",
       "    .dataframe tbody tr th:only-of-type {\n",
       "        vertical-align: middle;\n",
       "    }\n",
       "\n",
       "    .dataframe tbody tr th {\n",
       "        vertical-align: top;\n",
       "    }\n",
       "\n",
       "    .dataframe thead th {\n",
       "        text-align: right;\n",
       "    }\n",
       "</style>\n",
       "<table border=\"1\" class=\"dataframe\">\n",
       "  <thead>\n",
       "    <tr style=\"text-align: right;\">\n",
       "      <th></th>\n",
       "      <th>total_booked</th>\n",
       "      <th>confirmed</th>\n",
       "      <th>traffic</th>\n",
       "      <th>gross_conversion</th>\n",
       "      <th>net_conversion</th>\n",
       "    </tr>\n",
       "  </thead>\n",
       "  <tbody>\n",
       "    <tr>\n",
       "      <th>2020-12-31</th>\n",
       "      <td>35386</td>\n",
       "      <td>27750</td>\n",
       "      <td>1409068</td>\n",
       "      <td>2.51</td>\n",
       "      <td>1.97</td>\n",
       "    </tr>\n",
       "    <tr>\n",
       "      <th>2021-01-31</th>\n",
       "      <td>40704</td>\n",
       "      <td>31522</td>\n",
       "      <td>1553081</td>\n",
       "      <td>2.62</td>\n",
       "      <td>2.03</td>\n",
       "    </tr>\n",
       "  </tbody>\n",
       "</table>\n",
       "</div>"
      ],
      "text/plain": [
       "            total_booked  confirmed  traffic  gross_conversion  net_conversion\n",
       "2020-12-31         35386      27750  1409068              2.51            1.97\n",
       "2021-01-31         40704      31522  1553081              2.62            2.03"
      ]
     },
     "execution_count": 22,
     "metadata": {},
     "output_type": "execute_result"
    }
   ],
   "source": [
    "# monthly\n",
    "daily_stats.resample('M').sum().assign(gross_conversion = lambda x: round((x['total_booked']/x['traffic'])*100,2),\n",
    "                  net_conversion = lambda x: round((x['confirmed']/x['traffic'])*100,2))"
   ]
  },
  {
   "cell_type": "markdown",
   "metadata": {},
   "source": [
    "#### By Source"
   ]
  },
  {
   "cell_type": "code",
   "execution_count": 23,
   "metadata": {},
   "outputs": [
    {
     "data": {
      "text/html": [
       "<div>\n",
       "<style scoped>\n",
       "    .dataframe tbody tr th:only-of-type {\n",
       "        vertical-align: middle;\n",
       "    }\n",
       "\n",
       "    .dataframe tbody tr th {\n",
       "        vertical-align: top;\n",
       "    }\n",
       "\n",
       "    .dataframe thead th {\n",
       "        text-align: right;\n",
       "    }\n",
       "</style>\n",
       "<table border=\"1\" class=\"dataframe\">\n",
       "  <thead>\n",
       "    <tr style=\"text-align: right;\">\n",
       "      <th></th>\n",
       "      <th>total_appointments_by_source</th>\n",
       "      <th>confirmed_by_source</th>\n",
       "      <th>traffic_by_source</th>\n",
       "      <th>gross_conversion</th>\n",
       "      <th>net_conversion</th>\n",
       "    </tr>\n",
       "  </thead>\n",
       "  <tbody>\n",
       "    <tr>\n",
       "      <th>mweb</th>\n",
       "      <td>36112</td>\n",
       "      <td>0</td>\n",
       "      <td>1983162.0</td>\n",
       "      <td>1.82</td>\n",
       "      <td>0.00</td>\n",
       "    </tr>\n",
       "    <tr>\n",
       "      <th>android</th>\n",
       "      <td>28048</td>\n",
       "      <td>21284</td>\n",
       "      <td>464141.0</td>\n",
       "      <td>6.04</td>\n",
       "      <td>4.59</td>\n",
       "    </tr>\n",
       "    <tr>\n",
       "      <th>ios</th>\n",
       "      <td>11930</td>\n",
       "      <td>0</td>\n",
       "      <td>87930.0</td>\n",
       "      <td>13.57</td>\n",
       "      <td>0.00</td>\n",
       "    </tr>\n",
       "    <tr>\n",
       "      <th>mWeb</th>\n",
       "      <td>0</td>\n",
       "      <td>28588</td>\n",
       "      <td>0.0</td>\n",
       "      <td>NaN</td>\n",
       "      <td>inf</td>\n",
       "    </tr>\n",
       "    <tr>\n",
       "      <th>iOS</th>\n",
       "      <td>0</td>\n",
       "      <td>9400</td>\n",
       "      <td>0.0</td>\n",
       "      <td>NaN</td>\n",
       "      <td>inf</td>\n",
       "    </tr>\n",
       "    <tr>\n",
       "      <th>web</th>\n",
       "      <td>0</td>\n",
       "      <td>0</td>\n",
       "      <td>426916.0</td>\n",
       "      <td>0.00</td>\n",
       "      <td>0.00</td>\n",
       "    </tr>\n",
       "  </tbody>\n",
       "</table>\n",
       "</div>"
      ],
      "text/plain": [
       "         total_appointments_by_source  confirmed_by_source  traffic_by_source  \\\n",
       "mweb                            36112                    0          1983162.0   \n",
       "android                         28048                21284           464141.0   \n",
       "ios                             11930                    0            87930.0   \n",
       "mWeb                                0                28588                0.0   \n",
       "iOS                                 0                 9400                0.0   \n",
       "web                                 0                    0           426916.0   \n",
       "\n",
       "         gross_conversion  net_conversion  \n",
       "mweb                 1.82            0.00  \n",
       "android              6.04            4.59  \n",
       "ios                 13.57            0.00  \n",
       "mWeb                  NaN             inf  \n",
       "iOS                   NaN             inf  \n",
       "web                  0.00            0.00  "
      ]
     },
     "execution_count": 23,
     "metadata": {},
     "output_type": "execute_result"
    }
   ],
   "source": [
    "appointments_data['source'] = appointments_data['source'].str.lower()\n",
    "total_appointments_by_source = appointments_data['source'].value_counts()\n",
    "confirmed_by_source = confirmed_appointments_data['source'].value_counts()\n",
    "\n",
    "traffic_data_india['platform'] = traffic_data_india['platform'].str.lower()\n",
    "traffic_by_source = traffic_data_india.groupby(['platform']).agg({'dau':'sum'})\n",
    "\n",
    "conversion_stats_source = pd.concat([total_appointments_by_source, confirmed_by_source, traffic_by_source], axis='columns').fillna(0)\n",
    "conversion_stats_source.columns = ['total_appointments_by_source', 'confirmed_by_source', 'traffic_by_source']\n",
    "\n",
    "conversion_stats_source.total_appointments_by_source = conversion_stats_source.total_appointments_by_source.astype(int)\n",
    "conversion_stats_source.confirmed_by_source = conversion_stats_source.confirmed_by_source.astype(int)\n",
    "\n",
    "conversion_stats_source.assign(gross_conversion = lambda x: round((x['total_appointments_by_source']/x['traffic_by_source'])*100,2),\n",
    "                  net_conversion = lambda x: round((x['confirmed_by_source']/x['traffic_by_source'])*100,2))"
   ]
  },
  {
   "cell_type": "code",
   "execution_count": 24,
   "metadata": {},
   "outputs": [],
   "source": [
    "# store in csv\n",
    "conversion_stats_source.to_csv('Analysis/conversion_stats_by_source.csv')"
   ]
  },
  {
   "cell_type": "markdown",
   "metadata": {},
   "source": [
    "#### By City"
   ]
  },
  {
   "cell_type": "code",
   "execution_count": 25,
   "metadata": {},
   "outputs": [
    {
     "data": {
      "text/html": [
       "<div>\n",
       "<style scoped>\n",
       "    .dataframe tbody tr th:only-of-type {\n",
       "        vertical-align: middle;\n",
       "    }\n",
       "\n",
       "    .dataframe tbody tr th {\n",
       "        vertical-align: top;\n",
       "    }\n",
       "\n",
       "    .dataframe thead th {\n",
       "        text-align: right;\n",
       "    }\n",
       "</style>\n",
       "<table border=\"1\" class=\"dataframe\">\n",
       "  <thead>\n",
       "    <tr style=\"text-align: right;\">\n",
       "      <th></th>\n",
       "      <th>total_appointments_by_city</th>\n",
       "      <th>confirmed_by_city</th>\n",
       "      <th>traffic_by_city</th>\n",
       "      <th>gross_conversion</th>\n",
       "      <th>net_conversion</th>\n",
       "    </tr>\n",
       "  </thead>\n",
       "  <tbody>\n",
       "    <tr>\n",
       "      <th>bangalore</th>\n",
       "      <td>19954</td>\n",
       "      <td>15617</td>\n",
       "      <td>474855</td>\n",
       "      <td>4.20</td>\n",
       "      <td>3.29</td>\n",
       "    </tr>\n",
       "    <tr>\n",
       "      <th>delhi</th>\n",
       "      <td>9331</td>\n",
       "      <td>7040</td>\n",
       "      <td>370573</td>\n",
       "      <td>2.52</td>\n",
       "      <td>1.90</td>\n",
       "    </tr>\n",
       "    <tr>\n",
       "      <th>pune</th>\n",
       "      <td>8175</td>\n",
       "      <td>6641</td>\n",
       "      <td>261952</td>\n",
       "      <td>3.12</td>\n",
       "      <td>2.54</td>\n",
       "    </tr>\n",
       "    <tr>\n",
       "      <th>hyderabad</th>\n",
       "      <td>7991</td>\n",
       "      <td>6316</td>\n",
       "      <td>273769</td>\n",
       "      <td>2.92</td>\n",
       "      <td>2.31</td>\n",
       "    </tr>\n",
       "    <tr>\n",
       "      <th>gurgaon</th>\n",
       "      <td>6863</td>\n",
       "      <td>5310</td>\n",
       "      <td>94376</td>\n",
       "      <td>7.27</td>\n",
       "      <td>5.63</td>\n",
       "    </tr>\n",
       "    <tr>\n",
       "      <th>...</th>\n",
       "      <td>...</td>\n",
       "      <td>...</td>\n",
       "      <td>...</td>\n",
       "      <td>...</td>\n",
       "      <td>...</td>\n",
       "    </tr>\n",
       "    <tr>\n",
       "      <th>vizianagaram</th>\n",
       "      <td>1</td>\n",
       "      <td>1</td>\n",
       "      <td>206</td>\n",
       "      <td>0.49</td>\n",
       "      <td>0.49</td>\n",
       "    </tr>\n",
       "    <tr>\n",
       "      <th>tiruchirappalli</th>\n",
       "      <td>1</td>\n",
       "      <td>0</td>\n",
       "      <td>1042</td>\n",
       "      <td>0.10</td>\n",
       "      <td>0.00</td>\n",
       "    </tr>\n",
       "    <tr>\n",
       "      <th>karur</th>\n",
       "      <td>1</td>\n",
       "      <td>1</td>\n",
       "      <td>191</td>\n",
       "      <td>0.52</td>\n",
       "      <td>0.52</td>\n",
       "    </tr>\n",
       "    <tr>\n",
       "      <th>hisar</th>\n",
       "      <td>1</td>\n",
       "      <td>1</td>\n",
       "      <td>457</td>\n",
       "      <td>0.22</td>\n",
       "      <td>0.22</td>\n",
       "    </tr>\n",
       "    <tr>\n",
       "      <th>salem</th>\n",
       "      <td>1</td>\n",
       "      <td>1</td>\n",
       "      <td>1319</td>\n",
       "      <td>0.08</td>\n",
       "      <td>0.08</td>\n",
       "    </tr>\n",
       "  </tbody>\n",
       "</table>\n",
       "<p>81 rows × 5 columns</p>\n",
       "</div>"
      ],
      "text/plain": [
       "                 total_appointments_by_city  confirmed_by_city  \\\n",
       "bangalore                             19954              15617   \n",
       "delhi                                  9331               7040   \n",
       "pune                                   8175               6641   \n",
       "hyderabad                              7991               6316   \n",
       "gurgaon                                6863               5310   \n",
       "...                                     ...                ...   \n",
       "vizianagaram                              1                  1   \n",
       "tiruchirappalli                           1                  0   \n",
       "karur                                     1                  1   \n",
       "hisar                                     1                  1   \n",
       "salem                                     1                  1   \n",
       "\n",
       "                 traffic_by_city  gross_conversion  net_conversion  \n",
       "bangalore                 474855              4.20            3.29  \n",
       "delhi                     370573              2.52            1.90  \n",
       "pune                      261952              3.12            2.54  \n",
       "hyderabad                 273769              2.92            2.31  \n",
       "gurgaon                    94376              7.27            5.63  \n",
       "...                          ...               ...             ...  \n",
       "vizianagaram                 206              0.49            0.49  \n",
       "tiruchirappalli             1042              0.10            0.00  \n",
       "karur                        191              0.52            0.52  \n",
       "hisar                        457              0.22            0.22  \n",
       "salem                       1319              0.08            0.08  \n",
       "\n",
       "[81 rows x 5 columns]"
      ]
     },
     "execution_count": 25,
     "metadata": {},
     "output_type": "execute_result"
    }
   ],
   "source": [
    "appointments_data['city'] = appointments_data['city'].str.lower()\n",
    "total_appointments_by_city = appointments_data['city'].value_counts()\n",
    "confirmed_by_city = confirmed_appointments_data['city'].value_counts()\n",
    "\n",
    "traffic_data_india['city'] = traffic_data_india['city'].str.lower()\n",
    "traffic_by_city = traffic_data_india.groupby(['city']).agg({'dau':'sum'})\n",
    "\n",
    "conversion_stats_city = pd.concat([total_appointments_by_city, confirmed_by_city, traffic_by_city], axis='columns').fillna(0)\n",
    "conversion_stats_city.columns = ['total_appointments_by_city', 'confirmed_by_city', 'traffic_by_city']\n",
    "\n",
    "conversion_stats_city.total_appointments_by_city = conversion_stats_city.total_appointments_by_city.astype(int)\n",
    "conversion_stats_city.confirmed_by_city = conversion_stats_city.confirmed_by_city.astype(int)\n",
    "\n",
    "# dropping columns where no appointments have been done\n",
    "conversion_stats_city = conversion_stats_city[conversion_stats_city['total_appointments_by_city'] > 0]\n",
    "\n",
    "conversion_stats_city.assign(gross_conversion = lambda x: round((x['total_appointments_by_city']/x['traffic_by_city'])*100,2),\n",
    "                  net_conversion = lambda x: round((x['confirmed_by_city']/x['traffic_by_city'])*100,2))"
   ]
  },
  {
   "cell_type": "code",
   "execution_count": 26,
   "metadata": {},
   "outputs": [],
   "source": [
    "# store in csv\n",
    "conversion_stats_city.to_csv('Analysis/conversion_stats_by_city.csv')"
   ]
  },
  {
   "cell_type": "markdown",
   "metadata": {},
   "source": [
    "#### By Speciality"
   ]
  },
  {
   "cell_type": "code",
   "execution_count": 27,
   "metadata": {},
   "outputs": [
    {
     "data": {
      "text/html": [
       "<div>\n",
       "<style scoped>\n",
       "    .dataframe tbody tr th:only-of-type {\n",
       "        vertical-align: middle;\n",
       "    }\n",
       "\n",
       "    .dataframe tbody tr th {\n",
       "        vertical-align: top;\n",
       "    }\n",
       "\n",
       "    .dataframe thead th {\n",
       "        text-align: right;\n",
       "    }\n",
       "</style>\n",
       "<table border=\"1\" class=\"dataframe\">\n",
       "  <thead>\n",
       "    <tr style=\"text-align: right;\">\n",
       "      <th></th>\n",
       "      <th>total_appointments_by_speciality</th>\n",
       "      <th>confirmed_by_speciality</th>\n",
       "      <th>traffic_by_speciality</th>\n",
       "      <th>gross_conversion</th>\n",
       "      <th>net_conversion</th>\n",
       "    </tr>\n",
       "  </thead>\n",
       "  <tbody>\n",
       "    <tr>\n",
       "      <th>dermatologist</th>\n",
       "      <td>11041</td>\n",
       "      <td>8893</td>\n",
       "      <td>328626</td>\n",
       "      <td>3.36</td>\n",
       "      <td>2.71</td>\n",
       "    </tr>\n",
       "    <tr>\n",
       "      <th>gynecologist/obstetrician</th>\n",
       "      <td>8880</td>\n",
       "      <td>6911</td>\n",
       "      <td>265586</td>\n",
       "      <td>3.34</td>\n",
       "      <td>2.60</td>\n",
       "    </tr>\n",
       "    <tr>\n",
       "      <th>dentist</th>\n",
       "      <td>8567</td>\n",
       "      <td>6881</td>\n",
       "      <td>214026</td>\n",
       "      <td>4.00</td>\n",
       "      <td>3.22</td>\n",
       "    </tr>\n",
       "    <tr>\n",
       "      <th>orthopedist</th>\n",
       "      <td>6483</td>\n",
       "      <td>5218</td>\n",
       "      <td>185704</td>\n",
       "      <td>3.49</td>\n",
       "      <td>2.81</td>\n",
       "    </tr>\n",
       "    <tr>\n",
       "      <th>general physician</th>\n",
       "      <td>4916</td>\n",
       "      <td>3748</td>\n",
       "      <td>192784</td>\n",
       "      <td>2.55</td>\n",
       "      <td>1.94</td>\n",
       "    </tr>\n",
       "    <tr>\n",
       "      <th>...</th>\n",
       "      <td>...</td>\n",
       "      <td>...</td>\n",
       "      <td>...</td>\n",
       "      <td>...</td>\n",
       "      <td>...</td>\n",
       "    </tr>\n",
       "    <tr>\n",
       "      <th>pediatric endocrinologist</th>\n",
       "      <td>1</td>\n",
       "      <td>1</td>\n",
       "      <td>73</td>\n",
       "      <td>1.37</td>\n",
       "      <td>1.37</td>\n",
       "    </tr>\n",
       "    <tr>\n",
       "      <th>infectious diseases physician</th>\n",
       "      <td>1</td>\n",
       "      <td>1</td>\n",
       "      <td>0</td>\n",
       "      <td>inf</td>\n",
       "      <td>inf</td>\n",
       "    </tr>\n",
       "    <tr>\n",
       "      <th>hemorrhoids</th>\n",
       "      <td>1</td>\n",
       "      <td>1</td>\n",
       "      <td>7</td>\n",
       "      <td>14.29</td>\n",
       "      <td>14.29</td>\n",
       "    </tr>\n",
       "    <tr>\n",
       "      <th>penis pain</th>\n",
       "      <td>1</td>\n",
       "      <td>0</td>\n",
       "      <td>15</td>\n",
       "      <td>6.67</td>\n",
       "      <td>0.00</td>\n",
       "    </tr>\n",
       "    <tr>\n",
       "      <th>paediatric intensivist</th>\n",
       "      <td>1</td>\n",
       "      <td>1</td>\n",
       "      <td>320</td>\n",
       "      <td>0.31</td>\n",
       "      <td>0.31</td>\n",
       "    </tr>\n",
       "  </tbody>\n",
       "</table>\n",
       "<p>194 rows × 5 columns</p>\n",
       "</div>"
      ],
      "text/plain": [
       "                                total_appointments_by_speciality  \\\n",
       "dermatologist                                              11041   \n",
       "gynecologist/obstetrician                                   8880   \n",
       "dentist                                                     8567   \n",
       "orthopedist                                                 6483   \n",
       "general physician                                           4916   \n",
       "...                                                          ...   \n",
       "pediatric endocrinologist                                      1   \n",
       "infectious diseases physician                                  1   \n",
       "hemorrhoids                                                    1   \n",
       "penis pain                                                     1   \n",
       "paediatric intensivist                                         1   \n",
       "\n",
       "                                confirmed_by_speciality  \\\n",
       "dermatologist                                      8893   \n",
       "gynecologist/obstetrician                          6911   \n",
       "dentist                                            6881   \n",
       "orthopedist                                        5218   \n",
       "general physician                                  3748   \n",
       "...                                                 ...   \n",
       "pediatric endocrinologist                             1   \n",
       "infectious diseases physician                         1   \n",
       "hemorrhoids                                           1   \n",
       "penis pain                                            0   \n",
       "paediatric intensivist                                1   \n",
       "\n",
       "                                traffic_by_speciality  gross_conversion  \\\n",
       "dermatologist                                  328626              3.36   \n",
       "gynecologist/obstetrician                      265586              3.34   \n",
       "dentist                                        214026              4.00   \n",
       "orthopedist                                    185704              3.49   \n",
       "general physician                              192784              2.55   \n",
       "...                                               ...               ...   \n",
       "pediatric endocrinologist                          73              1.37   \n",
       "infectious diseases physician                       0               inf   \n",
       "hemorrhoids                                         7             14.29   \n",
       "penis pain                                         15              6.67   \n",
       "paediatric intensivist                            320              0.31   \n",
       "\n",
       "                                net_conversion  \n",
       "dermatologist                             2.71  \n",
       "gynecologist/obstetrician                 2.60  \n",
       "dentist                                   3.22  \n",
       "orthopedist                               2.81  \n",
       "general physician                         1.94  \n",
       "...                                        ...  \n",
       "pediatric endocrinologist                 1.37  \n",
       "infectious diseases physician              inf  \n",
       "hemorrhoids                              14.29  \n",
       "penis pain                                0.00  \n",
       "paediatric intensivist                    0.31  \n",
       "\n",
       "[194 rows x 5 columns]"
      ]
     },
     "execution_count": 27,
     "metadata": {},
     "output_type": "execute_result"
    }
   ],
   "source": [
    "appointments_data['speciality'] = appointments_data['speciality'].str.lower()\n",
    "total_appointments_by_speciality = appointments_data['speciality'].value_counts()\n",
    "confirmed_by_speciality = confirmed_appointments_data['speciality'].value_counts()\n",
    "\n",
    "traffic_data_india['query_value'] = traffic_data_india['query_value'].str.lower()\n",
    "traffic_by_speciality = traffic_data_india.groupby(['query_value']).agg({'dau':'sum'})\n",
    "\n",
    "conversion_stats_speciality = pd.concat([total_appointments_by_speciality, confirmed_by_speciality, traffic_by_speciality], axis='columns').fillna(0)\n",
    "conversion_stats_speciality.columns = ['total_appointments_by_speciality', 'confirmed_by_speciality', 'traffic_by_speciality']\n",
    "\n",
    "conversion_stats_speciality.total_appointments_by_speciality = conversion_stats_speciality.total_appointments_by_speciality.astype(int)\n",
    "conversion_stats_speciality.confirmed_by_speciality = conversion_stats_speciality.confirmed_by_speciality.astype(int)\n",
    "conversion_stats_speciality.traffic_by_speciality = conversion_stats_speciality.traffic_by_speciality.astype(int)\n",
    "\n",
    "# dropping columns where no appointments have been done\n",
    "conversion_stats_speciality = conversion_stats_speciality[conversion_stats_speciality['total_appointments_by_speciality'] > 0]\n",
    "\n",
    "conversion_stats_speciality.assign(gross_conversion = lambda x: round((x['total_appointments_by_speciality']/x['traffic_by_speciality'])*100,2),\n",
    "                  net_conversion = lambda x: round((x['confirmed_by_speciality']/x['traffic_by_speciality'])*100,2))"
   ]
  },
  {
   "cell_type": "code",
   "execution_count": 28,
   "metadata": {},
   "outputs": [],
   "source": [
    "# store in csv\n",
    "conversion_stats_speciality.to_csv('Analysis/conversion_stats_by_speciality.csv')"
   ]
  },
  {
   "cell_type": "markdown",
   "metadata": {},
   "source": [
    "# Retention"
   ]
  },
  {
   "cell_type": "markdown",
   "metadata": {},
   "source": [
    "### Overall Retention for given data"
   ]
  },
  {
   "cell_type": "code",
   "execution_count": 29,
   "metadata": {},
   "outputs": [],
   "source": [
    "def total_retention(df):\n",
    "    unique_users = len(df['patient_id'].unique())\n",
    "\n",
    "    filter_duplicate = df['patient_id'].duplicated(keep=False)\n",
    "\n",
    "    unique_retained_users = len(df[filter_duplicate]['patient_id'].unique())\n",
    "    churned_users = unique_users - unique_retained_users\n",
    "    \n",
    "    net_retention = (unique_retained_users / unique_users) * 100\n",
    "    return net_retention"
   ]
  },
  {
   "cell_type": "code",
   "execution_count": 30,
   "metadata": {},
   "outputs": [
    {
     "name": "stdout",
     "output_type": "stream",
     "text": [
      "gross total retention = 3.19 %\n",
      "net total retention = 2.20 %\n"
     ]
    }
   ],
   "source": [
    "# gross and net total retention\n",
    "gross_total_retention = total_retention(appointments_data)\n",
    "net_total_retention = total_retention(confirmed_appointments_data)\n",
    "\n",
    "print(\"gross total retention = {:.2f} %\".format(gross_total_retention))\n",
    "print(\"net total retention = {:.2f} %\".format(net_total_retention))"
   ]
  },
  {
   "cell_type": "code",
   "execution_count": 31,
   "metadata": {},
   "outputs": [],
   "source": [
    "filter_duplicate = appointments_data['patient_id'].duplicated(keep=False)\n",
    "\n",
    "# most frequent users\n",
    "most_frequent_users = appointments_data[filter_duplicate]['patient_id'].value_counts().nlargest(10)"
   ]
  },
  {
   "cell_type": "markdown",
   "metadata": {},
   "source": [
    "### Retention over defined offset period"
   ]
  },
  {
   "cell_type": "code",
   "execution_count": 32,
   "metadata": {},
   "outputs": [],
   "source": [
    "def retained(df, user_id, offset):\n",
    "    user_data = df[df['patient_id'] == user_id].sort_values(by=['ref_date'],ascending=True)\n",
    "    td = user_data.iloc[1]['ref_date'] - user_data.iloc[0]['ref_date']\n",
    "    return td.days <= offset\n",
    "\n",
    "def calculate_retention(df, offset = 30):\n",
    "    repeat_users = df[df['patient_id'].duplicated(keep=False)]['patient_id'].unique()\n",
    "    unique_users = len(df['patient_id'].unique())\n",
    "    \n",
    "    retained_count = 0\n",
    "    for user in repeat_users:\n",
    "        if retained(df, user, offset):\n",
    "            retained_count+=1\n",
    "    retention_rate = (retained_count/unique_users) * 100\n",
    "    return round(retention_rate, 2)"
   ]
  },
  {
   "cell_type": "code",
   "execution_count": 33,
   "metadata": {},
   "outputs": [
    {
     "name": "stdout",
     "output_type": "stream",
     "text": [
      "gross 30-day retention = 2.99 %\n",
      "net 30-day retention = 2.02 %\n"
     ]
    }
   ],
   "source": [
    "# gross 30-day retention\n",
    "gross_retention_30 = calculate_retention(appointments_data, 30)\n",
    "\n",
    "# net 30-day retention\n",
    "net_retention_30 = calculate_retention(confirmed_appointments_data, 30)\n",
    "\n",
    "print(\"gross 30-day retention = {:.2f} %\".format(gross_retention_30))\n",
    "print(\"net 30-day retention = {:.2f} %\".format(net_retention_30))"
   ]
  },
  {
   "cell_type": "markdown",
   "metadata": {},
   "source": [
    "#### Validating the function by calculating 60-day retention, which should be the same as total retention, given that is our entire data.\n",
    "###### As we can see below, the retention rate is the same."
   ]
  },
  {
   "cell_type": "code",
   "execution_count": 34,
   "metadata": {},
   "outputs": [
    {
     "name": "stdout",
     "output_type": "stream",
     "text": [
      "gross 60-day retention = 3.19 %\n",
      "net 60-day retention = 2.20 %\n"
     ]
    }
   ],
   "source": [
    "# gross 60-day retention\n",
    "gross_retention_60 = calculate_retention(appointments_data, 60)\n",
    "\n",
    "# net 60-day retention\n",
    "net_retention_60 = calculate_retention(confirmed_appointments_data, 60)\n",
    "\n",
    "print(\"gross 60-day retention = {:.2f} %\".format(gross_retention_60))\n",
    "print(\"net 60-day retention = {:.2f} %\".format(net_retention_60))"
   ]
  },
  {
   "cell_type": "code",
   "execution_count": 35,
   "metadata": {},
   "outputs": [
    {
     "data": {
      "text/plain": [
       "2332"
      ]
     },
     "execution_count": 35,
     "metadata": {},
     "output_type": "execute_result"
    }
   ],
   "source": [
    "len(appointments_data[appointments_data['patient_id'].duplicated(keep=False)]['patient_id'].unique())"
   ]
  },
  {
   "cell_type": "markdown",
   "metadata": {},
   "source": [
    "### Function to calculate over cuts"
   ]
  },
  {
   "cell_type": "code",
   "execution_count": 36,
   "metadata": {},
   "outputs": [],
   "source": [
    "def calculate_retention_by_parameter(df, parameter, offset = 30):\n",
    "    groups = df.groupby([parameter])\n",
    "\n",
    "    retention_by_parameter = pd.DataFrame(columns = [parameter, 'retention_rate'])\n",
    "\n",
    "    # calculating retention for parameter only if number of bookings > 10\n",
    "    for name, group in groups:\n",
    "        if len(group.index) > 10:\n",
    "            r_rate = calculate_retention(group, offset)\n",
    "            retention_by_parameter = retention_by_parameter.append({parameter: name, 'retention_rate': r_rate},\n",
    "                                                                  ignore_index = True)\n",
    "    return retention_by_parameter"
   ]
  },
  {
   "cell_type": "markdown",
   "metadata": {},
   "source": [
    "#### Calculating over cities"
   ]
  },
  {
   "cell_type": "code",
   "execution_count": 37,
   "metadata": {},
   "outputs": [],
   "source": [
    "# calculating 30-day retention rates by cities if number of appointments in city > 10\n",
    "\n",
    "# gross\n",
    "gross_retention_by_city_30 = calculate_retention_by_parameter(appointments_data, 'city', 30)\n",
    "\n",
    "# net\n",
    "net_retention_by_city_30 = calculate_retention_by_parameter(confirmed_appointments_data, 'city', 30)\n",
    "\n",
    "# combined\n",
    "retention_by_city = pd.merge(gross_retention_by_city_30, net_retention_by_city_30, on='city')\n",
    "retention_by_city.columns = ['city', 'gross_retention_by_city', 'net_retention_by_city']"
   ]
  },
  {
   "cell_type": "code",
   "execution_count": 38,
   "metadata": {},
   "outputs": [],
   "source": [
    "# storing in csv\n",
    "retention_by_city.to_csv('Analysis/retention_by_city.csv', index=False)"
   ]
  },
  {
   "cell_type": "markdown",
   "metadata": {},
   "source": [
    "#### Calculating over specialities"
   ]
  },
  {
   "cell_type": "code",
   "execution_count": 39,
   "metadata": {},
   "outputs": [],
   "source": [
    "# calculating 30-day retention rates by speciality if number of appointments for speciality > 10\n",
    "\n",
    "# gross\n",
    "gross_retention_by_speciality_30 = calculate_retention_by_parameter(appointments_data, 'speciality', 30)\n",
    "\n",
    "# net\n",
    "net_retention_by_speciality_30 = calculate_retention_by_parameter(confirmed_appointments_data, 'speciality', 30)\n",
    "\n",
    "# combined\n",
    "retention_by_speciality = pd.merge(gross_retention_by_speciality_30, net_retention_by_speciality_30, on='speciality')\n",
    "retention_by_speciality.columns = ['speciality', 'gross_retention_by_speciality', 'net_retention_by_speciality']"
   ]
  },
  {
   "cell_type": "code",
   "execution_count": 40,
   "metadata": {},
   "outputs": [],
   "source": [
    "retention_by_speciality.to_csv('Analysis/retention_by_speciality.csv', index=False)"
   ]
  },
  {
   "cell_type": "markdown",
   "metadata": {},
   "source": [
    "### Calculating over source"
   ]
  },
  {
   "cell_type": "code",
   "execution_count": 41,
   "metadata": {},
   "outputs": [],
   "source": [
    "# calculating 30-day retention rates by source if number of appointments for speciality > 10\n",
    "\n",
    "# gross\n",
    "gross_retention_by_source_30 = calculate_retention_by_parameter(appointments_data, 'source', 30)\n",
    "\n",
    "# net\n",
    "net_retention_by_source_30 = calculate_retention_by_parameter(confirmed_appointments_data, 'source', 30)\n",
    "\n",
    "# combined\n",
    "retention_by_source = pd.merge(gross_retention_by_source_30, net_retention_by_source_30, on='source')\n",
    "retention_by_source.columns = ['source', 'gross_retention_by_source', 'net_retention_by_source']"
   ]
  },
  {
   "cell_type": "code",
   "execution_count": 42,
   "metadata": {},
   "outputs": [],
   "source": [
    "retention_by_source.to_csv('Analysis/retention_by_source.csv', index=False)"
   ]
  },
  {
   "cell_type": "code",
   "execution_count": null,
   "metadata": {},
   "outputs": [],
   "source": []
  }
 ],
 "metadata": {
  "kernelspec": {
   "display_name": "Python 3",
   "language": "python",
   "name": "python3"
  },
  "language_info": {
   "codemirror_mode": {
    "name": "ipython",
    "version": 3
   },
   "file_extension": ".py",
   "mimetype": "text/x-python",
   "name": "python",
   "nbconvert_exporter": "python",
   "pygments_lexer": "ipython3",
   "version": "3.8.3"
  }
 },
 "nbformat": 4,
 "nbformat_minor": 4
}
